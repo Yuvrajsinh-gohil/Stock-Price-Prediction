{
 "cells": [
  {
   "cell_type": "code",
   "execution_count": 2,
   "id": "65d69b73",
   "metadata": {},
   "outputs": [
    {
     "name": "stdout",
     "output_type": "stream",
     "text": [
      "Requirement already satisfied: yfinance in c:\\users\\yuvra\\anaconda3\\lib\\site-packages (0.2.40)\n",
      "Requirement already satisfied: pandas>=1.3.0 in c:\\users\\yuvra\\anaconda3\\lib\\site-packages (from yfinance) (2.0.3)\n",
      "Requirement already satisfied: numpy>=1.16.5 in c:\\users\\yuvra\\anaconda3\\lib\\site-packages (from yfinance) (1.24.3)\n",
      "Requirement already satisfied: requests>=2.31 in c:\\users\\yuvra\\anaconda3\\lib\\site-packages (from yfinance) (2.31.0)\n",
      "Requirement already satisfied: multitasking>=0.0.7 in c:\\users\\yuvra\\anaconda3\\lib\\site-packages (from yfinance) (0.0.11)\n",
      "Requirement already satisfied: lxml>=4.9.1 in c:\\users\\yuvra\\anaconda3\\lib\\site-packages (from yfinance) (4.9.3)\n",
      "Requirement already satisfied: platformdirs>=2.0.0 in c:\\users\\yuvra\\anaconda3\\lib\\site-packages (from yfinance) (3.10.0)\n",
      "Requirement already satisfied: pytz>=2022.5 in c:\\users\\yuvra\\anaconda3\\lib\\site-packages (from yfinance) (2023.3.post1)\n",
      "Requirement already satisfied: frozendict>=2.3.4 in c:\\users\\yuvra\\anaconda3\\lib\\site-packages (from yfinance) (2.4.4)\n",
      "Requirement already satisfied: peewee>=3.16.2 in c:\\users\\yuvra\\anaconda3\\lib\\site-packages (from yfinance) (3.17.5)\n",
      "Requirement already satisfied: beautifulsoup4>=4.11.1 in c:\\users\\yuvra\\anaconda3\\lib\\site-packages (from yfinance) (4.12.2)\n",
      "Requirement already satisfied: html5lib>=1.1 in c:\\users\\yuvra\\anaconda3\\lib\\site-packages (from yfinance) (1.1)\n",
      "Requirement already satisfied: soupsieve>1.2 in c:\\users\\yuvra\\anaconda3\\lib\\site-packages (from beautifulsoup4>=4.11.1->yfinance) (2.4)\n",
      "Requirement already satisfied: six>=1.9 in c:\\users\\yuvra\\anaconda3\\lib\\site-packages (from html5lib>=1.1->yfinance) (1.16.0)\n",
      "Requirement already satisfied: webencodings in c:\\users\\yuvra\\anaconda3\\lib\\site-packages (from html5lib>=1.1->yfinance) (0.5.1)\n",
      "Requirement already satisfied: python-dateutil>=2.8.2 in c:\\users\\yuvra\\anaconda3\\lib\\site-packages (from pandas>=1.3.0->yfinance) (2.8.2)\n",
      "Requirement already satisfied: tzdata>=2022.1 in c:\\users\\yuvra\\anaconda3\\lib\\site-packages (from pandas>=1.3.0->yfinance) (2023.3)\n",
      "Requirement already satisfied: charset-normalizer<4,>=2 in c:\\users\\yuvra\\anaconda3\\lib\\site-packages (from requests>=2.31->yfinance) (2.0.4)\n",
      "Requirement already satisfied: idna<4,>=2.5 in c:\\users\\yuvra\\anaconda3\\lib\\site-packages (from requests>=2.31->yfinance) (3.4)\n",
      "Requirement already satisfied: urllib3<3,>=1.21.1 in c:\\users\\yuvra\\anaconda3\\lib\\site-packages (from requests>=2.31->yfinance) (1.26.16)\n",
      "Requirement already satisfied: certifi>=2017.4.17 in c:\\users\\yuvra\\anaconda3\\lib\\site-packages (from requests>=2.31->yfinance) (2023.7.22)\n"
     ]
    }
   ],
   "source": [
    "!pip install yfinance \n",
    "#using this code use can download data of stocks from yfinance "
   ]
  },
  {
   "cell_type": "code",
   "execution_count": 3,
   "id": "d932ad91",
   "metadata": {},
   "outputs": [],
   "source": [
    "import yfinance as yf\n",
    "import pandas as pd\n",
    "import numpy as np"
   ]
  },
  {
   "cell_type": "code",
   "execution_count": 11,
   "id": "02c446b0",
   "metadata": {},
   "outputs": [],
   "source": [
    "ticker = '^NSEBANK' "
   ]
  },
  {
   "cell_type": "code",
   "execution_count": 12,
   "id": "85345a4c",
   "metadata": {},
   "outputs": [
    {
     "name": "stderr",
     "output_type": "stream",
     "text": [
      "[*********************100%%**********************]  1 of 1 completed\n"
     ]
    }
   ],
   "source": [
    "snp_prices = yf.download(ticker, start = '2021-01-01', end = '2024-08-20')"
   ]
  },
  {
   "cell_type": "code",
   "execution_count": 13,
   "id": "2ffc3a05",
   "metadata": {},
   "outputs": [
    {
     "data": {
      "text/html": [
       "<div>\n",
       "<style scoped>\n",
       "    .dataframe tbody tr th:only-of-type {\n",
       "        vertical-align: middle;\n",
       "    }\n",
       "\n",
       "    .dataframe tbody tr th {\n",
       "        vertical-align: top;\n",
       "    }\n",
       "\n",
       "    .dataframe thead th {\n",
       "        text-align: right;\n",
       "    }\n",
       "</style>\n",
       "<table border=\"1\" class=\"dataframe\">\n",
       "  <thead>\n",
       "    <tr style=\"text-align: right;\">\n",
       "      <th></th>\n",
       "      <th>Open</th>\n",
       "      <th>High</th>\n",
       "      <th>Low</th>\n",
       "      <th>Close</th>\n",
       "      <th>Adj Close</th>\n",
       "      <th>Volume</th>\n",
       "    </tr>\n",
       "    <tr>\n",
       "      <th>Date</th>\n",
       "      <th></th>\n",
       "      <th></th>\n",
       "      <th></th>\n",
       "      <th></th>\n",
       "      <th></th>\n",
       "      <th></th>\n",
       "    </tr>\n",
       "  </thead>\n",
       "  <tbody>\n",
       "    <tr>\n",
       "      <th>2021-01-04</th>\n",
       "      <td>31485.150391</td>\n",
       "      <td>31489.599609</td>\n",
       "      <td>30893.650391</td>\n",
       "      <td>31212.449219</td>\n",
       "      <td>31212.085938</td>\n",
       "      <td>0</td>\n",
       "    </tr>\n",
       "    <tr>\n",
       "      <th>2021-01-05</th>\n",
       "      <td>31041.099609</td>\n",
       "      <td>31767.650391</td>\n",
       "      <td>30935.550781</td>\n",
       "      <td>31722.250000</td>\n",
       "      <td>31721.880859</td>\n",
       "      <td>0</td>\n",
       "    </tr>\n",
       "    <tr>\n",
       "      <th>2021-01-06</th>\n",
       "      <td>31839.949219</td>\n",
       "      <td>31982.300781</td>\n",
       "      <td>31548.150391</td>\n",
       "      <td>31797.900391</td>\n",
       "      <td>31797.531250</td>\n",
       "      <td>0</td>\n",
       "    </tr>\n",
       "    <tr>\n",
       "      <th>2021-01-07</th>\n",
       "      <td>32129.800781</td>\n",
       "      <td>32177.400391</td>\n",
       "      <td>31911.500000</td>\n",
       "      <td>31956.000000</td>\n",
       "      <td>31955.628906</td>\n",
       "      <td>0</td>\n",
       "    </tr>\n",
       "    <tr>\n",
       "      <th>2021-01-08</th>\n",
       "      <td>32298.050781</td>\n",
       "      <td>32298.050781</td>\n",
       "      <td>32002.949219</td>\n",
       "      <td>32084.199219</td>\n",
       "      <td>32083.826172</td>\n",
       "      <td>0</td>\n",
       "    </tr>\n",
       "  </tbody>\n",
       "</table>\n",
       "</div>"
      ],
      "text/plain": [
       "                    Open          High           Low         Close  \\\n",
       "Date                                                                 \n",
       "2021-01-04  31485.150391  31489.599609  30893.650391  31212.449219   \n",
       "2021-01-05  31041.099609  31767.650391  30935.550781  31722.250000   \n",
       "2021-01-06  31839.949219  31982.300781  31548.150391  31797.900391   \n",
       "2021-01-07  32129.800781  32177.400391  31911.500000  31956.000000   \n",
       "2021-01-08  32298.050781  32298.050781  32002.949219  32084.199219   \n",
       "\n",
       "               Adj Close  Volume  \n",
       "Date                              \n",
       "2021-01-04  31212.085938       0  \n",
       "2021-01-05  31721.880859       0  \n",
       "2021-01-06  31797.531250       0  \n",
       "2021-01-07  31955.628906       0  \n",
       "2021-01-08  32083.826172       0  "
      ]
     },
     "execution_count": 13,
     "metadata": {},
     "output_type": "execute_result"
    }
   ],
   "source": [
    "snp_prices.head()"
   ]
  },
  {
   "cell_type": "code",
   "execution_count": 14,
   "id": "aac1552c",
   "metadata": {},
   "outputs": [
    {
     "data": {
      "text/html": [
       "<div>\n",
       "<style scoped>\n",
       "    .dataframe tbody tr th:only-of-type {\n",
       "        vertical-align: middle;\n",
       "    }\n",
       "\n",
       "    .dataframe tbody tr th {\n",
       "        vertical-align: top;\n",
       "    }\n",
       "\n",
       "    .dataframe thead th {\n",
       "        text-align: right;\n",
       "    }\n",
       "</style>\n",
       "<table border=\"1\" class=\"dataframe\">\n",
       "  <thead>\n",
       "    <tr style=\"text-align: right;\">\n",
       "      <th></th>\n",
       "      <th>Open</th>\n",
       "      <th>High</th>\n",
       "      <th>Low</th>\n",
       "      <th>Close</th>\n",
       "      <th>Adj Close</th>\n",
       "      <th>Volume</th>\n",
       "    </tr>\n",
       "  </thead>\n",
       "  <tbody>\n",
       "    <tr>\n",
       "      <th>count</th>\n",
       "      <td>891.000000</td>\n",
       "      <td>891.000000</td>\n",
       "      <td>891.000000</td>\n",
       "      <td>891.000000</td>\n",
       "      <td>891.000000</td>\n",
       "      <td>8.910000e+02</td>\n",
       "    </tr>\n",
       "    <tr>\n",
       "      <th>mean</th>\n",
       "      <td>40636.175110</td>\n",
       "      <td>40907.635443</td>\n",
       "      <td>40318.212211</td>\n",
       "      <td>40619.007142</td>\n",
       "      <td>40618.770783</td>\n",
       "      <td>2.343724e+06</td>\n",
       "    </tr>\n",
       "    <tr>\n",
       "      <th>std</th>\n",
       "      <td>5368.654250</td>\n",
       "      <td>5349.599715</td>\n",
       "      <td>5381.099580</td>\n",
       "      <td>5363.516524</td>\n",
       "      <td>5363.680084</td>\n",
       "      <td>6.039472e+07</td>\n",
       "    </tr>\n",
       "    <tr>\n",
       "      <th>min</th>\n",
       "      <td>29812.300781</td>\n",
       "      <td>30464.400391</td>\n",
       "      <td>29687.699219</td>\n",
       "      <td>30284.550781</td>\n",
       "      <td>30284.199219</td>\n",
       "      <td>0.000000e+00</td>\n",
       "    </tr>\n",
       "    <tr>\n",
       "      <th>25%</th>\n",
       "      <td>35902.298828</td>\n",
       "      <td>36227.375000</td>\n",
       "      <td>35540.000000</td>\n",
       "      <td>35838.175781</td>\n",
       "      <td>35837.757812</td>\n",
       "      <td>1.318000e+05</td>\n",
       "    </tr>\n",
       "    <tr>\n",
       "      <th>50%</th>\n",
       "      <td>40231.250000</td>\n",
       "      <td>40528.398438</td>\n",
       "      <td>39761.449219</td>\n",
       "      <td>40208.949219</td>\n",
       "      <td>40208.480469</td>\n",
       "      <td>1.734000e+05</td>\n",
       "    </tr>\n",
       "    <tr>\n",
       "      <th>75%</th>\n",
       "      <td>44564.824219</td>\n",
       "      <td>44670.849609</td>\n",
       "      <td>44267.000000</td>\n",
       "      <td>44495.724609</td>\n",
       "      <td>44495.724609</td>\n",
       "      <td>2.281000e+05</td>\n",
       "    </tr>\n",
       "    <tr>\n",
       "      <th>max</th>\n",
       "      <td>53357.699219</td>\n",
       "      <td>53357.699219</td>\n",
       "      <td>52815.898438</td>\n",
       "      <td>53103.699219</td>\n",
       "      <td>53103.699219</td>\n",
       "      <td>1.798102e+09</td>\n",
       "    </tr>\n",
       "  </tbody>\n",
       "</table>\n",
       "</div>"
      ],
      "text/plain": [
       "               Open          High           Low         Close     Adj Close  \\\n",
       "count    891.000000    891.000000    891.000000    891.000000    891.000000   \n",
       "mean   40636.175110  40907.635443  40318.212211  40619.007142  40618.770783   \n",
       "std     5368.654250   5349.599715   5381.099580   5363.516524   5363.680084   \n",
       "min    29812.300781  30464.400391  29687.699219  30284.550781  30284.199219   \n",
       "25%    35902.298828  36227.375000  35540.000000  35838.175781  35837.757812   \n",
       "50%    40231.250000  40528.398438  39761.449219  40208.949219  40208.480469   \n",
       "75%    44564.824219  44670.849609  44267.000000  44495.724609  44495.724609   \n",
       "max    53357.699219  53357.699219  52815.898438  53103.699219  53103.699219   \n",
       "\n",
       "             Volume  \n",
       "count  8.910000e+02  \n",
       "mean   2.343724e+06  \n",
       "std    6.039472e+07  \n",
       "min    0.000000e+00  \n",
       "25%    1.318000e+05  \n",
       "50%    1.734000e+05  \n",
       "75%    2.281000e+05  \n",
       "max    1.798102e+09  "
      ]
     },
     "execution_count": 14,
     "metadata": {},
     "output_type": "execute_result"
    }
   ],
   "source": [
    "snp_prices.describe()"
   ]
  },
  {
   "cell_type": "code",
   "execution_count": 15,
   "id": "91c9bcf3",
   "metadata": {},
   "outputs": [
    {
     "name": "stdout",
     "output_type": "stream",
     "text": [
      "Requirement already satisfied: xlrd in c:\\users\\yuvra\\anaconda3\\lib\\site-packages (2.0.1)\n",
      "Requirement already satisfied: xlwt in c:\\users\\yuvra\\anaconda3\\lib\\site-packages (1.3.0)\n",
      "Requirement already satisfied: openpyxl in c:\\users\\yuvra\\anaconda3\\lib\\site-packages (3.0.10)\n",
      "Requirement already satisfied: et_xmlfile in c:\\users\\yuvra\\anaconda3\\lib\\site-packages (from openpyxl) (1.1.0)\n"
     ]
    }
   ],
   "source": [
    "!pip install xlrd\n",
    "!pip install xlwt\n",
    "!pip install openpyxl"
   ]
  },
  {
   "cell_type": "code",
   "execution_count": 16,
   "id": "6ab4ec6e",
   "metadata": {},
   "outputs": [],
   "source": [
    "snp_prices.to_csv('banknifty.csv') ## Change the name of csv file according to the ticker name"
   ]
  },
  {
   "cell_type": "code",
   "execution_count": null,
   "id": "9af0336b-d365-486a-86a5-b273ecb0161e",
   "metadata": {},
   "outputs": [],
   "source": []
  }
 ],
 "metadata": {
  "kernelspec": {
   "display_name": "Python 3 (ipykernel)",
   "language": "python",
   "name": "python3"
  },
  "language_info": {
   "codemirror_mode": {
    "name": "ipython",
    "version": 3
   },
   "file_extension": ".py",
   "mimetype": "text/x-python",
   "name": "python",
   "nbconvert_exporter": "python",
   "pygments_lexer": "ipython3",
   "version": "3.11.5"
  }
 },
 "nbformat": 4,
 "nbformat_minor": 5
}
